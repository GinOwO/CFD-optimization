{
 "cells": [
  {
   "cell_type": "code",
   "execution_count": 1,
   "metadata": {},
   "outputs": [
    {
     "name": "stdout",
     "output_type": "stream",
     "text": [
      "Brute-force results preview:\n",
      "                    timestamp                             case_uuid  \\\n",
      "0  2025-03-03T21:05:45.350634  f19c5e98-1867-4dbc-a7fc-7d7a7a11a641   \n",
      "1  2025-03-03T21:05:45.351655  e3b88604-ee00-40f0-a501-db0355b9e37a   \n",
      "2  2025-03-03T21:05:45.351895  1d551070-9da3-4fbe-b2dd-d73eb69735c9   \n",
      "3  2025-03-03T21:05:45.352251  8b991971-948e-4212-b625-e93efe1400b2   \n",
      "4  2025-03-03T21:05:45.353316  1eaf80b0-4ece-41f4-9242-42b74c2e5fb2   \n",
      "\n",
      "                                            run_name        x0        x1  \\\n",
      "0  5_degree_AoA_fixed_nu_tilda_reduced_yplus_pena... -0.757310  0.604919   \n",
      "1  5_degree_AoA_fixed_nu_tilda_reduced_yplus_pena... -0.668189 -1.024275   \n",
      "2  5_degree_AoA_fixed_nu_tilda_reduced_yplus_pena... -1.423447  0.976704   \n",
      "3  5_degree_AoA_fixed_nu_tilda_reduced_yplus_pena... -1.314119  0.812812   \n",
      "4  5_degree_AoA_fixed_nu_tilda_reduced_yplus_pena... -0.718747  0.048086   \n",
      "\n",
      "         x2        x3        x4        x5  no_clipping  block_mesh  \\\n",
      "0  0.117403  0.343277  1.101255  0.005200        False       False   \n",
      "1  0.347452  0.937148  0.306230  0.032912        False       False   \n",
      "2 -0.122566  0.914379  0.035335 -0.342788        False       False   \n",
      "3  0.184454  1.223399  1.398559 -0.012962        False       False   \n",
      "4 -0.062435  0.905525  1.185327 -0.179537        False       False   \n",
      "\n",
      "   check_mesh  simple  convergence        vx        vy   vz  cl  cd  \n",
      "0       False   False        False  99.61947  8.715574  0.0 NaN NaN  \n",
      "1       False   False        False  99.61947  8.715574  0.0 NaN NaN  \n",
      "2       False   False        False  99.61947  8.715574  0.0 NaN NaN  \n",
      "3       False   False        False  99.61947  8.715574  0.0 NaN NaN  \n",
      "4       False   False        False  99.61947  8.715574  0.0 NaN NaN  \n",
      "\n",
      "Surrogate (custom) results preview:\n",
      "                    timestamp                             case_uuid  \\\n",
      "0  2025-03-09T20:35:03.468359  367926d1-903d-4bf9-9b4b-f42907d9e545   \n",
      "1  2025-03-09T20:35:04.020860  41c94adb-d017-4338-95b7-59fe7b036e91   \n",
      "2  2025-03-09T20:35:04.135356  bd85d4ab-380a-49c4-8b38-cacc2e871b68   \n",
      "3  2025-03-09T20:35:04.264019  eae2e19e-3ae5-4926-8527-1df88300fb30   \n",
      "4  2025-03-09T20:35:04.716767  163f7b0e-a967-4ec4-8483-65a9190421fb   \n",
      "\n",
      "              run_name        x0        x1        x2        x3        x4  \\\n",
      "0  svm_optimized_cl_cd -0.555657 -0.224791 -0.076456  0.637565  0.652060   \n",
      "1  svm_optimized_cl_cd -0.170845 -0.691643 -0.139076  0.324082  0.515171   \n",
      "2  svm_optimized_cl_cd -0.233053  0.779513 -0.132844  0.037622  1.411765   \n",
      "3  svm_optimized_cl_cd -0.565184  0.461375 -0.059002  0.874845  0.996138   \n",
      "4  svm_optimized_cl_cd -0.538732 -0.152841 -0.085038  0.404049  1.164323   \n",
      "\n",
      "         x5 no_clipping block_mesh check_mesh simple convergence        vx  \\\n",
      "0  1.142299        True       True       True   True        True  99.61947   \n",
      "1 -0.136984        True       True       True   True        True  99.61947   \n",
      "2  0.107517        True      False      False  False       False  99.61947   \n",
      "3  0.567331        True       True       True   True        True  99.61947   \n",
      "4  0.803412        True       True       True   True        True  99.61947   \n",
      "\n",
      "         vy   vz      cl_cd  \n",
      "0  8.715574  0.0  18.668593  \n",
      "1  8.715574  0.0  20.594717  \n",
      "2  8.715574  0.0        NaN  \n",
      "3  8.715574  0.0   7.206462  \n",
      "4  8.715574  0.0   8.539922  \n"
     ]
    }
   ],
   "source": [
    "import pandas as pd\n",
    "\n",
    "columns = [\n",
    "    \"timestamp\",\n",
    "    \"case_uuid\",\n",
    "    \"run_name\",\n",
    "    \"x0\",\n",
    "    \"x1\",\n",
    "    \"x2\",\n",
    "    \"x3\",\n",
    "    \"x4\",\n",
    "    \"x5\",\n",
    "    \"no_clipping\",\n",
    "    \"block_mesh\",\n",
    "    \"check_mesh\",\n",
    "    \"simple\",\n",
    "    \"convergence\",\n",
    "    \"vx\",\n",
    "    \"vy\",\n",
    "    \"vz\",\n",
    "    \"cl\",\n",
    "    \"cd\",\n",
    "]\n",
    "\n",
    "df_results = pd.read_csv(\"results/csv/results.csv\", header=None, names=columns)\n",
    "print(\"Brute-force results preview:\")\n",
    "print(df_results.head())\n",
    "\n",
    "columns = [\n",
    "    \"timestamp\",\n",
    "    \"case_uuid\",\n",
    "    \"run_name\",\n",
    "    \"x0\",\n",
    "    \"x1\",\n",
    "    \"x2\",\n",
    "    \"x3\",\n",
    "    \"x4\",\n",
    "    \"x5\",\n",
    "    \"no_clipping\",\n",
    "    \"block_mesh\",\n",
    "    \"check_mesh\",\n",
    "    \"simple\",\n",
    "    \"convergence\",\n",
    "    \"vx\",\n",
    "    \"vy\",\n",
    "    \"vz\",\n",
    "    \"cl_cd\",\n",
    "]\n",
    "\n",
    "df_custom = pd.read_csv(\"results/csv/custom_results.csv\", header=None, names=columns)\n",
    "print(\"\\nSurrogate (custom) results preview:\")\n",
    "print(df_custom.head())"
   ]
  },
  {
   "cell_type": "code",
   "execution_count": 2,
   "metadata": {},
   "outputs": [
    {
     "name": "stdout",
     "output_type": "stream",
     "text": [
      "Brute-Force Optimization Results:\n",
      "Number of converged simulations: 441\n",
      "Best L/D Ratio: 55.62202334778013\n",
      "Mean L/D Ratio: 22.945910807939576\n",
      "Standard Deviation of L/D Ratio: 14.896072047695348\n"
     ]
    },
    {
     "name": "stderr",
     "output_type": "stream",
     "text": [
      "/tmp/ipykernel_56685/3368068736.py:6: SettingWithCopyWarning: \n",
      "A value is trying to be set on a copy of a slice from a DataFrame.\n",
      "Try using .loc[row_indexer,col_indexer] = value instead\n",
      "\n",
      "See the caveats in the documentation: https://pandas.pydata.org/pandas-docs/stable/user_guide/indexing.html#returning-a-view-versus-a-copy\n",
      "  df_conv[\"l_to_d\"] = df_conv[\"cl\"] / df_conv[\"cd\"]\n"
     ]
    }
   ],
   "source": [
    "# Cell 2: Process Brute-Force Results\n",
    "# Filter converged simulations (assuming 'convergence' is 1 for converged runs)\n",
    "df_conv = df_results[df_results[\"convergence\"] == 1]\n",
    "\n",
    "# Compute lift-to-drag ratio using 'cl' and 'cd'\n",
    "df_conv[\"l_to_d\"] = df_conv[\"cl\"] / df_conv[\"cd\"]\n",
    "\n",
    "# Calculate key statistics\n",
    "best_ld = df_conv[\"l_to_d\"].max()\n",
    "mean_ld = df_conv[\"l_to_d\"].mean()\n",
    "std_ld = df_conv[\"l_to_d\"].std()\n",
    "\n",
    "print(\"Brute-Force Optimization Results:\")\n",
    "print(\"Number of converged simulations:\", len(df_conv))\n",
    "print(\"Best L/D Ratio:\", best_ld)\n",
    "print(\"Mean L/D Ratio:\", mean_ld)\n",
    "print(\"Standard Deviation of L/D Ratio:\", std_ld)"
   ]
  },
  {
   "cell_type": "code",
   "execution_count": 3,
   "metadata": {},
   "outputs": [
    {
     "name": "stdout",
     "output_type": "stream",
     "text": [
      "\n",
      "Surrogate-Assisted Optimization Results:\n",
      "Number of predictions: 29639\n",
      "Number of converged: 29540\n",
      "Peak Reynolds Number: 57.35505385924255\n",
      "Mean Reynolds Number: 56.63333281268128\n",
      "Values of CST coefficients for the best Reynolds number: [-0.11763894 -0.04846345  0.18096387  0.38838721  0.20867976  0.30349777]\n"
     ]
    }
   ],
   "source": [
    "# Cell 3: Process Surrogate (Custom) Results\n",
    "# The 'cl_cd' column is assumed to represent the Reynolds number predictions.\n",
    "peak_reynolds = df_custom[\"cl_cd\"].max()\n",
    "mean_reynolds = df_custom[\"cl_cd\"].mean()\n",
    "num_predictions = len(df_custom)\n",
    "\n",
    "print(\"\\nSurrogate-Assisted Optimization Results:\")\n",
    "print(\"Number of predictions:\", num_predictions)\n",
    "print(\"Number of converged:\", len(df_custom[df_custom[\"convergence\"] == 1]))\n",
    "print(\"Peak Reynolds Number:\", peak_reynolds)\n",
    "print(\"Mean Reynolds Number:\", mean_reynolds)\n",
    "print(\n",
    "    \"Values of CST coefficients for the best Reynolds number:\",\n",
    "    df_custom[df_custom[\"cl_cd\"] == peak_reynolds][\n",
    "        [\"x0\", \"x1\", \"x2\", \"x3\", \"x4\", \"x5\"]\n",
    "    ].values[0],\n",
    ")"
   ]
  },
  {
   "cell_type": "code",
   "execution_count": null,
   "metadata": {},
   "outputs": [
    {
     "name": "stdout",
     "output_type": "stream",
     "text": [
      "Additional Brute-Force Statistics:\n",
      "Minimum L/D Ratio: -19.771240056289773\n",
      "Median L/D Ratio: 22.843425032086067\n",
      "25th Percentile (Q1): 10.788839575607636\n",
      "75th Percentile (Q3): 35.33914233113737\n",
      "Interquartile Range (IQR): 24.55030275552973\n",
      "Coefficient of Variation (Std/Mean): 0.6491819903065743\n",
      "\n",
      "Correlation Matrix between CST Coefficients and L/D Ratio:\n",
      "              x0        x1        x2        x3        x4        x5    l_to_d\n",
      "x0      1.000000 -0.197382  0.061567  0.101631 -0.276247 -0.071124  0.363113\n",
      "x1     -0.197382  1.000000 -0.130266 -0.269347  0.477749  0.104058  0.214103\n",
      "x2      0.061567 -0.130266  1.000000 -0.005987  0.034101  0.186566  0.395688\n",
      "x3      0.101631 -0.269347 -0.005987  1.000000  0.011701  0.046774 -0.026398\n",
      "x4     -0.276247  0.477749  0.034101  0.011701  1.000000 -0.034187 -0.227618\n",
      "x5     -0.071124  0.104058  0.186566  0.046774 -0.034187  1.000000 -0.056754\n",
      "l_to_d  0.363113  0.214103  0.395688 -0.026398 -0.227618 -0.056754  1.000000\n"
     ]
    }
   ],
   "source": [
    "# Cell 5: Additional Brute-Force Statistics\n",
    "import numpy as np\n",
    "\n",
    "# Calculate additional metrics for brute-force results (converged cases)\n",
    "min_ld = df_conv[\"l_to_d\"].min()\n",
    "median_ld = df_conv[\"l_to_d\"].median()\n",
    "q1_ld = df_conv[\"l_to_d\"].quantile(0.25)\n",
    "q3_ld = df_conv[\"l_to_d\"].quantile(0.75)\n",
    "iqr_ld = q3_ld - q1_ld\n",
    "coef_var_ld = std_ld / mean_ld\n",
    "\n",
    "print(\"Additional Brute-Force Statistics:\")\n",
    "print(\"Minimum L/D Ratio:\", min_ld)\n",
    "print(\"Median L/D Ratio:\", median_ld)\n",
    "print(\"25th Percentile (Q1):\", q1_ld)\n",
    "print(\"75th Percentile (Q3):\", q3_ld)\n",
    "print(\"Interquartile Range (IQR):\", iqr_ld)\n",
    "print(\"Coefficient of Variation (Std/Mean):\", coef_var_ld)\n",
    "\n",
    "# Compute correlation between CST coefficients and L/D Ratio\n",
    "cst_columns = [\"x0\", \"x1\", \"x2\", \"x3\", \"x4\", \"x5\"]\n",
    "corr_matrix = df_conv[cst_columns + [\"l_to_d\"]].corr()\n",
    "print(\"\\nCorrelation Matrix between CST Coefficients and L/D Ratio:\")\n",
    "print(corr_matrix)"
   ]
  },
  {
   "cell_type": "code",
   "execution_count": null,
   "metadata": {},
   "outputs": [
    {
     "name": "stdout",
     "output_type": "stream",
     "text": [
      "Additional Surrogate-Assisted Statistics:\n",
      "Minimum Reynolds Number: 0.1089246154233887\n",
      "Median Reynolds Number: 57.354909292109596\n",
      "25th Percentile (Q1): 57.35161237784983\n",
      "75th Percentile (Q3): 57.355035199288054\n",
      "Interquartile Range (IQR): 0.0034228214382210354\n",
      "Coefficient of Variation (Std/Mean): 0.06875593427748065\n"
     ]
    }
   ],
   "source": [
    "# Cell 6: Additional Surrogate-Assisted Statistics\n",
    "# Calculate additional metrics for surrogate-assisted results\n",
    "min_reynolds = df_custom[\"cl_cd\"].min()\n",
    "median_reynolds = df_custom[\"cl_cd\"].median()\n",
    "q1_re = df_custom[\"cl_cd\"].quantile(0.25)\n",
    "q3_re = df_custom[\"cl_cd\"].quantile(0.75)\n",
    "iqr_re = q3_re - q1_re\n",
    "std_re = df_custom[\"cl_cd\"].std()\n",
    "coef_var_re = std_re / mean_reynolds\n",
    "\n",
    "print(\"Additional Surrogate-Assisted Statistics:\")\n",
    "print(\"Minimum Reynolds Number:\", min_reynolds)\n",
    "print(\"Median Reynolds Number:\", median_reynolds)\n",
    "print(\"25th Percentile (Q1):\", q1_re)\n",
    "print(\"75th Percentile (Q3):\", q3_re)\n",
    "print(\"Interquartile Range (IQR):\", iqr_re)\n",
    "print(\"Coefficient of Variation (Std/Mean):\", coef_var_re)"
   ]
  },
  {
   "cell_type": "code",
   "execution_count": 6,
   "metadata": {},
   "outputs": [
    {
     "data": {
      "image/png": "[encoded data removed]",
      "text/plain": [
       "<Figure size 1200x500 with 2 Axes>"
      ]
     },
     "metadata": {},
     "output_type": "display_data"
    }
   ],
   "source": [
    "# Cell 4: Plotting Distributions for Further Insights\n",
    "import matplotlib.pyplot as plt\n",
    "\n",
    "plt.figure(figsize=(12, 5))\n",
    "\n",
    "# Distribution of L/D Ratios from Brute-Force Phase\n",
    "plt.subplot(1, 2, 1)\n",
    "plt.hist(df_conv[\"l_to_d\"], bins=20, color=\"skyblue\", edgecolor=\"black\")\n",
    "plt.title(\"Distribution of L/D Ratios\")\n",
    "plt.xlabel(\"L/D Ratio\")\n",
    "plt.ylabel(\"Frequency\")\n",
    "\n",
    "# Distribution of Reynolds Number Predictions from Surrogate Phase\n",
    "plt.subplot(1, 2, 2)\n",
    "plt.hist(df_custom[\"cl_cd\"], bins=20, color=\"salmon\", edgecolor=\"black\")\n",
    "plt.title(\"Distribution of Reynolds Number Predictions\")\n",
    "plt.xlabel(\"Reynolds Number\")\n",
    "plt.ylabel(\"Frequency\")\n",
    "\n",
    "plt.tight_layout()\n",
    "plt.show()"
   ]
  }
 ],
 "metadata": {
  "kernelspec": {
   "display_name": "Python 3",
   "language": "python",
   "name": "python3"
  },
  "language_info": {
   "codemirror_mode": {
    "name": "ipython",
    "version": 3
   },
   "file_extension": ".py",
   "mimetype": "text/x-python",
   "name": "python",
   "nbconvert_exporter": "python",
   "pygments_lexer": "ipython3",
   "version": "3.13.2"
  }
 },
 "nbformat": 4,
 "nbformat_minor": 2
}
