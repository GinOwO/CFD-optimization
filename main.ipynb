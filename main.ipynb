{
 "cells": [
  {
   "cell_type": "code",
   "execution_count": 1,
   "metadata": {},
   "outputs": [],
   "source": [
    "from cst2coords import cst2coords\n",
    "from foil_mesher import meshify\n",
    "from utils import FOAM, Parameters\n",
    "from pathlib import Path\n",
    "import shutil\n",
    "import time\n",
    "import numpy as np"
   ]
  },
  {
   "cell_type": "code",
   "execution_count": 2,
   "metadata": {},
   "outputs": [],
   "source": [
    "shutil.rmtree(\"output\", ignore_errors=True)\n",
    "run = \"1\"  # time.time()\n",
    "param = Parameters(\n",
    "    f\"{run}\",\n",
    "    Path(f\"output/{run}\"),\n",
    "    Path(\"basic_template\"),\n",
    "    True,\n",
    "    Path(\"output/results/csv/results.csv\"),\n",
    "    fluid_velocity=np.array([99.6194698092, 8.7155742748, 0]),\n",
    ")\n",
    "\n",
    "param.run_path.mkdir(parents=True, exist_ok=True)\n",
    "shutil.copytree(src=param.template_path, dst=param.run_path, dirs_exist_ok=True)\n",
    "param.csv_path.parent.mkdir(exist_ok=True, parents=True)"
   ]
  },
  {
   "cell_type": "code",
   "execution_count": 3,
   "metadata": {},
   "outputs": [],
   "source": [
    "# wu wl of the foil\n",
    "wl = [0.65802251, 0.92974621, 1.11012945]\n",
    "wu = [-0.69080258, 0.22105255, -0.50046596]\n",
    "coords = cst2coords(wl, wu, 0, 50)\n",
    "x, y = [], []\n",
    "for i in range(len(coords)):\n",
    "    x.append(coords[i][0])\n",
    "    y.append(coords[i][1])\n",
    "# coords = np.column_stack((x[:-1], y[::-1][:-1]))\n",
    "coords = np.column_stack((x[:-1], y[:-1]))\n",
    "open(\"test.txt\", \"w\").write(\"\\n\".join([\" \".join(map(str, x)) for x in coords]))\n",
    "\n",
    "top_section = coords[1:][0 : 25 - 1]\n",
    "bot_section = coords[1:][25:][::-1]\n",
    "top_bottom_difference = top_section[:, 1] - bot_section[:, 1]\n",
    "\n",
    "if (top_bottom_difference < 0).any():\n",
    "    print(\"Top and bottom sections are intersecting\")\n",
    "    raise Exception(\"Top and bottom sections are intersecting\")\n",
    "\n",
    "# open(\"test.txt\", \"w\").write(\"\\n\".join([\" \".join(map(str, x)) for x in coords]))"
   ]
  },
  {
   "cell_type": "code",
   "execution_count": 4,
   "metadata": {},
   "outputs": [],
   "source": [
    "FOAM.set_fluid_velocities(param.run_path, param.fluid_velocity)\n",
    "meshify(Coords=coords, run_path=param.run_path)"
   ]
  },
  {
   "cell_type": "code",
   "execution_count": 5,
   "metadata": {},
   "outputs": [],
   "source": [
    "block_mesh_result = FOAM.run_blockmesh(run_path=param.run_path)\n",
    "check_mesh_result = FOAM.run_checkmesh(run_path=param.run_path)"
   ]
  },
  {
   "cell_type": "code",
   "execution_count": 6,
   "metadata": {},
   "outputs": [],
   "source": [
    "if not (block_mesh_result and check_mesh_result):\n",
    "    raise Exception(\"Meshing failed: \" + param.run_name)"
   ]
  },
  {
   "cell_type": "code",
   "execution_count": null,
   "metadata": {},
   "outputs": [],
   "source": [
    "with open(\n",
    "    \"2.foam\",\n",
    "    \"w\",\n",
    ") as _:\n",
    "    pass\n",
    "simple_result = FOAM.run_simple(param.run_path.resolve(), param.run_name)\n",
    "if not simple_result:\n",
    "    raise Exception(\"Simple failed\")"
   ]
  },
  {
   "cell_type": "code",
   "execution_count": null,
   "metadata": {},
   "outputs": [],
   "source": []
  }
 ],
 "metadata": {
  "kernelspec": {
   "display_name": "venv",
   "language": "python",
   "name": "python3"
  },
  "language_info": {
   "codemirror_mode": {
    "name": "ipython",
    "version": 3
   },
   "file_extension": ".py",
   "mimetype": "text/x-python",
   "name": "python",
   "nbconvert_exporter": "python",
   "pygments_lexer": "ipython3",
   "version": "3.13.1"
  }
 },
 "nbformat": 4,
 "nbformat_minor": 2
}
