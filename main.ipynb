{
 "cells": [
  {
   "cell_type": "code",
   "execution_count": 1,
   "metadata": {},
   "outputs": [
    {
     "name": "stderr",
     "output_type": "stream",
     "text": [
      "/home/gin/Desktop/ParallelComp/Code/foil_mesher.py:498: SyntaxWarning: invalid escape sequence '\\ '\n",
      "  \"/*--------------------------------*- C++ -*----------------------------------*\\ \\n\"\n",
      "/home/gin/Desktop/ParallelComp/Code/foil_mesher.py:508: SyntaxWarning: invalid escape sequence '\\*'\n",
      "  \"\\*---------------------------------------------------------------------------*/ \\n\"\n"
     ]
    }
   ],
   "source": [
    "from cst2coords import cst2coords\n",
    "from foil_mesher import meshify\n",
    "from utils import FOAM, Param\n",
    "from pathlib import Path\n",
    "import shutil\n",
    "import time\n",
    "import numpy as np"
   ]
  },
  {
   "cell_type": "code",
   "execution_count": 2,
   "metadata": {},
   "outputs": [],
   "source": [
    "shutil.rmtree(\"output\", ignore_errors=True)\n",
    "run = \"1\"  # time.time()\n",
    "param = Param(\n",
    "    f\"{run}\",\n",
    "    Path(f\"output/{run}\"),\n",
    "    Path(\"basic_template\"),\n",
    "    True,\n",
    "    Path(\"output/results/csv/results.csv\"),\n",
    "    fluid_velocity=np.array([99.6194698092, 8.7155742748, 0]),\n",
    ")\n",
    "\n",
    "param.run_path.mkdir(parents=True, exist_ok=True)\n",
    "shutil.copytree(src=param.template_path, dst=param.run_path, dirs_exist_ok=True)\n",
    "param.csv_path.parent.mkdir(exist_ok=True, parents=True)"
   ]
  },
  {
   "cell_type": "code",
   "execution_count": 3,
   "metadata": {},
   "outputs": [],
   "source": [
    "# wu wl of the foil\n",
    "wu = [0.65802251, 0.92974621, 1.11012945]\n",
    "wl = [-0.69080258, 0.22105255, -0.50046596]\n",
    "coords = cst2coords(wu, wl, 0, 50)\n",
    "x, y = [], []\n",
    "for i in range(len(coords)):\n",
    "    x.append(coords[i][0])\n",
    "    y.append(coords[i][1])\n",
    "# coords = np.column_stack((x[:-1], y[::-1][:-1]))\n",
    "coords = np.column_stack((x[:-1], y[:-1]))\n",
    "open(\"test.txt\", \"w\").write(\"\\n\".join([\" \".join(map(str, x)) for x in coords]))\n",
    "\n",
    "top_section = coords[1:][0 : 25 - 1]\n",
    "bot_section = coords[1:][25:][::-1]\n",
    "top_bottom_difference = top_section[:, 1] - bot_section[:, 1]\n",
    "\n",
    "if (top_bottom_difference < 0).any():\n",
    "    raise Exception(\"Top and bottom sections are intersecting\")\n",
    "# open(\"test.txt\", \"w\").write(\"\\n\".join([\" \".join(map(str, x)) for x in coords]))"
   ]
  },
  {
   "cell_type": "code",
   "execution_count": 4,
   "metadata": {},
   "outputs": [],
   "source": [
    "FOAM.set_fluid_velocities(param.run_path, param.fluid_velocity)\n",
    "meshify(Coords=coords, run_path=param.run_path)"
   ]
  },
  {
   "cell_type": "code",
   "execution_count": 5,
   "metadata": {},
   "outputs": [],
   "source": [
    "block_mesh_result = FOAM.run_blockmesh(run_path=param.run_path)\n",
    "check_mesh_result = FOAM.run_checkmesh(run_path=param.run_path)"
   ]
  },
  {
   "cell_type": "code",
   "execution_count": 6,
   "metadata": {},
   "outputs": [],
   "source": [
    "if not (block_mesh_result and check_mesh_result):\n",
    "    raise Exception(\"Meshing failed: \" + param.run_name)"
   ]
  },
  {
   "cell_type": "code",
   "execution_count": 7,
   "metadata": {},
   "outputs": [
    {
     "ename": "Exception",
     "evalue": "Simple failed",
     "output_type": "error",
     "traceback": [
      "\u001b[0;31m---------------------------------------------------------------------------\u001b[0m",
      "\u001b[0;31mException\u001b[0m                                 Traceback (most recent call last)",
      "Cell \u001b[0;32mIn[7], line 8\u001b[0m\n\u001b[1;32m      6\u001b[0m simple_result \u001b[38;5;241m=\u001b[39m FOAM\u001b[38;5;241m.\u001b[39mrun_simple(param\u001b[38;5;241m.\u001b[39mrun_path, param\u001b[38;5;241m.\u001b[39mrun_name)\n\u001b[1;32m      7\u001b[0m \u001b[38;5;28;01mif\u001b[39;00m \u001b[38;5;129;01mnot\u001b[39;00m simple_result:\n\u001b[0;32m----> 8\u001b[0m     \u001b[38;5;28;01mraise\u001b[39;00m \u001b[38;5;167;01mException\u001b[39;00m(\u001b[38;5;124m\"\u001b[39m\u001b[38;5;124mSimple failed\u001b[39m\u001b[38;5;124m\"\u001b[39m)\n",
      "\u001b[0;31mException\u001b[0m: Simple failed"
     ]
    }
   ],
   "source": [
    "with open(\n",
    "    param.run_path / (param.run_name + \".foam\"),\n",
    "    \"w\",\n",
    ") as _:\n",
    "    pass\n",
    "simple_result = FOAM.run_simple(param.run_path, param.run_name)\n",
    "if not simple_result:\n",
    "    raise Exception(\"Simple failed\")"
   ]
  },
  {
   "cell_type": "code",
   "execution_count": null,
   "metadata": {},
   "outputs": [],
   "source": [
    "print(simple_result)"
   ]
  }
 ],
 "metadata": {
  "kernelspec": {
   "display_name": "venv",
   "language": "python",
   "name": "python3"
  },
  "language_info": {
   "codemirror_mode": {
    "name": "ipython",
    "version": 3
   },
   "file_extension": ".py",
   "mimetype": "text/x-python",
   "name": "python",
   "nbconvert_exporter": "python",
   "pygments_lexer": "ipython3",
   "version": "3.12.7"
  }
 },
 "nbformat": 4,
 "nbformat_minor": 2
}
